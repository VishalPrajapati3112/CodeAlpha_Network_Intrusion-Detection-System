{
  "nbformat": 4,
  "nbformat_minor": 0,
  "metadata": {
    "colab": {
      "provenance": []
    },
    "kernelspec": {
      "name": "python3",
      "display_name": "Python 3"
    },
    "language_info": {
      "name": "python"
    }
  },
  "cells": [
    {
      "cell_type": "code",
      "execution_count": 8,
      "metadata": {
        "colab": {
          "base_uri": "https://localhost:8080/"
        },
        "id": "2_X2UR5McYi6",
        "outputId": "8d4cd71f-47d4-49bf-fed6-2794e413d322"
      },
      "outputs": [
        {
          "output_type": "stream",
          "name": "stdout",
          "text": [
            "✅ Accuracy: 0.9737\n",
            "🧩 Confusion Matrix:\n",
            " [[439931   3822]\n",
            " [  9559  54698]]\n",
            "\n",
            "📊 Classification Report:\n",
            "               precision    recall  f1-score   support\n",
            "\n",
            "           0       0.98      0.99      0.99    443753\n",
            "           1       0.93      0.85      0.89     64257\n",
            "\n",
            "    accuracy                           0.97    508010\n",
            "   macro avg       0.96      0.92      0.94    508010\n",
            "weighted avg       0.97      0.97      0.97    508010\n",
            "\n",
            "💾 Model and scaler saved as 'logistic_model.pkl' and 'scaler.pkl'\n"
          ]
        }
      ],
      "source": [
        "import pandas as pd\n",
        "from sklearn.preprocessing import LabelEncoder, StandardScaler\n",
        "from sklearn.model_selection import train_test_split\n",
        "from sklearn.linear_model import LogisticRegression\n",
        "from sklearn.metrics import classification_report, confusion_matrix\n",
        "import joblib\n",
        "import warnings\n",
        "warnings.filterwarnings('ignore')\n",
        "\n",
        "# Top 12 features\n",
        "top_12_features = ['dmeansz', 'sloss', 'Sjit', 'Dpkts', 'Sload', 'Djit',\n",
        "                   'Sintpkt', 'Spkts', 'ct_state_ttl', 'Dintpkt', 'sbytes', 'tcprtt']\n",
        "\n",
        "# Load column names\n",
        "features_df = pd.read_csv('NUSW-NB15_features.csv', header=None, encoding='ISO-8859-1')\n",
        "column_names = features_df[1].tolist()[1:]\n",
        "\n",
        "# Load and combine all parts of the dataset\n",
        "files = ['UNSW-NB15_1.csv', 'UNSW-NB15_2.csv', 'UNSW-NB15_3.csv', 'UNSW-NB15_4.csv']\n",
        "df = pd.concat([pd.read_csv(f, header=None, encoding='utf-8') for f in files], ignore_index=True)\n",
        "df.columns = column_names\n",
        "\n",
        "# Keep only selected features + target\n",
        "df = df[top_12_features + ['Label']]\n",
        "\n",
        "# Encode any categorical columns (just in case)\n",
        "for col in df.select_dtypes(include='object').columns:\n",
        "    df[col] = LabelEncoder().fit_transform(df[col].astype(str))\n",
        "\n",
        "# Split features and target\n",
        "X = df.drop('Label', axis=1)\n",
        "y = df['Label']\n",
        "\n",
        "# Scale features\n",
        "scaler = StandardScaler()\n",
        "X_scaled = scaler.fit_transform(X)\n",
        "\n",
        "# Split and train\n",
        "X_train, X_test, y_train, y_test = train_test_split(X_scaled, y, test_size=0.2, random_state=42, stratify=y)\n",
        "model = LogisticRegression(max_iter=1000)\n",
        "model.fit(X_train, y_train)\n",
        "\n",
        "# Predict and evaluate\n",
        "y_pred = model.predict(X_test)\n",
        "print(f\"✅ Accuracy: {model.score(X_test, y_test):.4f}\")\n",
        "print(\"🧩 Confusion Matrix:\\n\", confusion_matrix(y_test, y_pred))\n",
        "print(\"\\n📊 Classification Report:\\n\", classification_report(y_test, y_pred))\n",
        "\n",
        "# Save model and scaler to .pkl files\n",
        "joblib.dump(model, 'logistic_model.pkl')\n",
        "joblib.dump(scaler, 'scaler.pkl')\n",
        "print(\"💾 Model and scaler saved as 'logistic_model.pkl' and 'scaler.pkl'\")\n"
      ]
    }
  ]
}